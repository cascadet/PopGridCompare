{
 "cells": [
  {
   "cell_type": "markdown",
   "metadata": {},
   "source": [
    "# MODIS\n",
    "Cascade Tuholsle Dec 2020 <br>\n",
    "Take MODIS 2015 landcover data from GEE downloaded at 1-km and reclassify as urban/rural bianary. Then reproject into GPWv4 <br>\n",
    "urban land cover is 13"
   ]
  },
  {
   "cell_type": "code",
   "execution_count": 2,
   "metadata": {},
   "outputs": [],
   "source": [
    "# import xarray as xr\n",
    "import numpy as np\n",
    "import pandas as pd\n",
    "import geopandas as gpd\n",
    "import rasterio \n",
    "import rioxarray as rio\n",
    "from glob import glob"
   ]
  },
  {
   "cell_type": "code",
   "execution_count": 7,
   "metadata": {},
   "outputs": [],
   "source": [
    "# file paths and FN\n",
    "data_in = '/Users/cascade/Github/PopGridCompare/data/raw/'\n",
    "data_out = '/Users/cascade/Github/PopGridCompare/data/interim/'\n",
    "\n",
    "modis_in_fn = data_in+'MODIS/MODIS2015_LCType2_1km.tif'\n",
    "modis_out_fn = data_out+'MODIS2015_LCType2_1km-urban.tif'"
   ]
  },
  {
   "cell_type": "code",
   "execution_count": 21,
   "metadata": {},
   "outputs": [],
   "source": [
    "# open MODIS, y: 17590, x: 40031, MODIS Sinusoidal\n",
    "modis_in = rasterio.open(modis_in_fn)"
   ]
  },
  {
   "cell_type": "code",
   "execution_count": 28,
   "metadata": {},
   "outputs": [],
   "source": [
    "# revalue for urban\n",
    "arr = modis_in.read(1)\n",
    "bol = arr == 13\n",
    "urban = arr * bol"
   ]
  },
  {
   "cell_type": "code",
   "execution_count": 30,
   "metadata": {},
   "outputs": [
    {
     "data": {
      "text/plain": [
       "array([ 0, 13], dtype=uint8)"
      ]
     },
     "execution_count": 30,
     "metadata": {},
     "output_type": "execute_result"
    }
   ],
   "source": [
    "# check\n",
    "np.unique(urban)"
   ]
  },
  {
   "cell_type": "code",
   "execution_count": 32,
   "metadata": {},
   "outputs": [],
   "source": [
    "# write out\n",
    "meta = modis_in.meta\n",
    "\n",
    "# write our raster to disk\n",
    "with rasterio.open(modis_out_fn, 'w', **meta) as out:\n",
    "    out.write_band(1, urban)"
   ]
  }
 ],
 "metadata": {
  "kernelspec": {
   "display_name": "Python 3",
   "language": "python",
   "name": "python3"
  },
  "language_info": {
   "codemirror_mode": {
    "name": "ipython",
    "version": 3
   },
   "file_extension": ".py",
   "mimetype": "text/x-python",
   "name": "python",
   "nbconvert_exporter": "python",
   "pygments_lexer": "ipython3",
   "version": "3.7.3"
  }
 },
 "nbformat": 4,
 "nbformat_minor": 2
}
