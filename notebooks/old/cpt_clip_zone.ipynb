{
 "cells": [
  {
   "cell_type": "markdown",
   "metadata": {},
   "source": [
    "# Zonal Stats\n",
    "\n",
    "By Cascade Tuholske, June 2020\n",
    "\n",
    "Notebook to make rasters and stats for subsets. <br><br>\n",
    "**NOTE** CRS should be epsg:4326 for everything!"
   ]
  },
  {
   "cell_type": "code",
   "execution_count": 1,
   "metadata": {},
   "outputs": [],
   "source": [
    "#### Dependencies\n",
    "import numpy as np\n",
    "import pandas as pd\n",
    "import rasterio\n",
    "import geopandas as gpd\n",
    "from rasterstats import zonal_stats, gen_zonal_stats\n",
    "from glob import glob\n",
    "import rasterio.mask\n",
    "import matplotlib.pyplot as plt"
   ]
  },
  {
   "cell_type": "code",
   "execution_count": 2,
   "metadata": {},
   "outputs": [],
   "source": [
    "#### File Paths & FNs\n",
    "DATA_PATH = '/Users/cascade/Github/PopGridCompare/data/'"
   ]
  },
  {
   "cell_type": "markdown",
   "metadata": {},
   "source": [
    "## Clip Rasters"
   ]
  },
  {
   "cell_type": "code",
   "execution_count": 3,
   "metadata": {},
   "outputs": [],
   "source": [
    "def raster_clip(rst_fn, polys, fn_out_ext):\n",
    "    \n",
    "    \"\"\"function clips a raster and saves it out\n",
    "    Args:\n",
    "        rst_fn = in raster\n",
    "        polys = polygon(s) to clipt to\n",
    "        fn_out_ext = out fn name extention \n",
    "    \"\"\"\n",
    "    \n",
    "    # Get raster name\n",
    "    data = rst_fn.split(DATA_PATH+'interim/')[1].split('_matched.tif')[0]\n",
    "    fn_out = DATA_PATH+'interim/'+data+fn_out_ext\n",
    "    print(fn_out)\n",
    "    \n",
    "    # clip raster\n",
    "    with rasterio.open(rst_fn) as src:\n",
    "        out_image, out_transform = rasterio.mask.mask(src, shapes, crop=True)\n",
    "        out_meta = src.meta\n",
    "        \n",
    "    # Update meta data\n",
    "    out_meta.update({\"driver\": \"GTiff\",\n",
    "                 \"height\": out_image.shape[1],\n",
    "                 \"width\": out_image.shape[2],\n",
    "                 \"transform\": out_transform})\n",
    "    # plot it\n",
    "    plt.imshow(out_image[0])\n",
    "    \n",
    "    # write image \n",
    "    with rasterio.open(fn_out, \"w\", **out_meta) as dest:\n",
    "        dest.write(out_image)"
   ]
  },
  {
   "cell_type": "code",
   "execution_count": 4,
   "metadata": {},
   "outputs": [],
   "source": [
    "#### Open polys\n",
    "polys_fn = DATA_PATH+'raw/mar_region_shps/basins_coastal_regions.shp'\n",
    "fn_out_ext = 'mar_region.tif'\n",
    "polys = gpd.read_file(polys_fn)\n",
    "shapes = polys[\"geometry\"]"
   ]
  },
  {
   "cell_type": "code",
   "execution_count": 5,
   "metadata": {
    "scrolled": true
   },
   "outputs": [
    {
     "data": {
      "text/plain": [
       "['/Users/cascade/Github/PopGridCompare/data/interim/GHS15_matched.tif',\n",
       " '/Users/cascade/Github/PopGridCompare/data/interim/LS15_matched.tif',\n",
       " '/Users/cascade/Github/PopGridCompare/data/interim/GPWv4_matched.tif',\n",
       " '/Users/cascade/Github/PopGridCompare/data/interim/ESRI16_matched.tif',\n",
       " '/Users/cascade/Github/PopGridCompare/data/interim/WP16_matched.tif']"
      ]
     },
     "execution_count": 5,
     "metadata": {},
     "output_type": "execute_result"
    }
   ],
   "source": [
    "#### Git tif files\n",
    "rst_fns = glob('/Users/cascade/Github/PopGridCompare/data/interim/*_matched.tif')\n",
    "rst_fns"
   ]
  },
  {
   "cell_type": "code",
   "execution_count": 6,
   "metadata": {},
   "outputs": [
    {
     "name": "stdout",
     "output_type": "stream",
     "text": [
      "/Users/cascade/Github/PopGridCompare/data/interim/GHS15mar_region.tif\n",
      "/Users/cascade/Github/PopGridCompare/data/interim/LS15mar_region.tif\n",
      "/Users/cascade/Github/PopGridCompare/data/interim/GPWv4mar_region.tif\n",
      "/Users/cascade/Github/PopGridCompare/data/interim/ESRI16mar_region.tif\n",
      "/Users/cascade/Github/PopGridCompare/data/interim/WP16mar_region.tif\n"
     ]
    },
    {
     "data": {
      "image/png": "[encoded data removed]",
      "text/plain": [
       "<Figure size 432x288 with 1 Axes>"
      ]
     },
     "metadata": {
      "needs_background": "light"
     },
     "output_type": "display_data"
    }
   ],
   "source": [
    "for rst_fn in rst_fns:\n",
    "    raster_clip(rst_fn, shapes, fn_out_ext)"
   ]
  },
  {
   "cell_type": "markdown",
   "metadata": {},
   "source": [
    "## Zonal Stats"
   ]
  },
  {
   "cell_type": "code",
   "execution_count": 7,
   "metadata": {},
   "outputs": [],
   "source": [
    "def zone_loop(polys_in, rst_list, stats_type, col):\n",
    "    \"\"\" Function loops through rasters, calcs zonal_stats and returns stats as a data frame.\n",
    "    Args:\n",
    "        polys_in = polygons\n",
    "        rst_list = list of paths & fns of rasters\n",
    "        stats_type = stats type for each poly gone (see zonal stats)\n",
    "    \"\"\"\n",
    "    \n",
    "    # copy polys to write out\n",
    "    polys_out = polys_in.copy()\n",
    "    \n",
    "    for rst in rst_list:\n",
    "        \n",
    "        # Get data name\n",
    "        data = rst.split(DATA_PATH+'interim/')[1].split('_matched.tif')[0]\n",
    "        print('Started', data)\n",
    "        \n",
    "        # Run zonal stats\n",
    "        zs_feats = zonal_stats(polys_in, rst, stats=stats_type, geojson_out=True)\n",
    "        zgdf = gpd.GeoDataFrame.from_features(zs_feats, crs=polys_in.crs)\n",
    "        \n",
    "        # Rename columns and merge\n",
    "        zgdf = zgdf.rename(columns={stats_type: data+'_'+stats_type})\n",
    "        \n",
    "        polys_out = polys_out.merge(zgdf[[col, data+'_'+stats_type]], on = col, how = 'inner')\n",
    "    \n",
    "    return polys_out"
   ]
  },
  {
   "cell_type": "code",
   "execution_count": 8,
   "metadata": {},
   "outputs": [],
   "source": [
    "#### Run on Nigeria GDAM \n",
    "polys_fn = DATA_PATH+'raw/mar_region_shps/basins_coastal_regions.shp'\n",
    "polys = gpd.read_file(polys_fn)\n",
    "fn_out = DATA_PATH+'interim/mar_region_shps_zonal.shp' #updatea"
   ]
  },
  {
   "cell_type": "code",
   "execution_count": 9,
   "metadata": {},
   "outputs": [
    {
     "data": {
      "text/plain": [
       "['/Users/cascade/Github/PopGridCompare/data/interim/GHS15_matched.tif',\n",
       " '/Users/cascade/Github/PopGridCompare/data/interim/LS15_matched.tif',\n",
       " '/Users/cascade/Github/PopGridCompare/data/interim/GPWv4_matched.tif',\n",
       " '/Users/cascade/Github/PopGridCompare/data/interim/ESRI16_matched.tif',\n",
       " '/Users/cascade/Github/PopGridCompare/data/interim/WP16_matched.tif']"
      ]
     },
     "execution_count": 9,
     "metadata": {},
     "output_type": "execute_result"
    }
   ],
   "source": [
    "# Git tif files\n",
    "rst_fns = glob('/Users/cascade/Github/PopGridCompare/data/interim/*_matched.tif')\n",
    "rst_fns"
   ]
  },
  {
   "cell_type": "code",
   "execution_count": 10,
   "metadata": {},
   "outputs": [],
   "source": [
    "# subset, be sure to check the admin level\n",
    "col = 'name' # gdam level\n",
    "polys_clip = polys[['geometry', col]]"
   ]
  },
  {
   "cell_type": "code",
   "execution_count": null,
   "metadata": {},
   "outputs": [
    {
     "name": "stdout",
     "output_type": "stream",
     "text": [
      "Started GHS15\n",
      "Started LS15\n",
      "Started GPWv4\n",
      "Started ESRI16\n",
      "Started WP16\n"
     ]
    }
   ],
   "source": [
    "# Run zonal stats loop\n",
    "polys_sum = zone_loop(polys_clip, rst_fns, 'sum', col)\n",
    "polys_sum.head()"
   ]
  },
  {
   "cell_type": "code",
   "execution_count": null,
   "metadata": {},
   "outputs": [],
   "source": [
    "#### merge\n",
    "# polys_fn = DATA_PATH+'raw/South_FL/study_area_wgs84.shp'\n",
    "# polys = gpd.read_file(polys_fn)\n",
    "\n",
    "gpd_out = polys.merge(polys_sum.iloc[:,1:], on = 'GEOID', how = 'inner')"
   ]
  },
  {
   "cell_type": "code",
   "execution_count": null,
   "metadata": {},
   "outputs": [],
   "source": [
    "gpd_out.head()"
   ]
  },
  {
   "cell_type": "code",
   "execution_count": null,
   "metadata": {},
   "outputs": [],
   "source": [
    "#### Save it out\n",
    "gpd_out = gpd.GeoDataFrame(polys_sum)\n",
    "gpd_out.to_file(fn_out)"
   ]
  }
 ],
 "metadata": {
  "kernelspec": {
   "display_name": "Python 3",
   "language": "python",
   "name": "python3"
  },
  "language_info": {
   "codemirror_mode": {
    "name": "ipython",
    "version": 3
   },
   "file_extension": ".py",
   "mimetype": "text/x-python",
   "name": "python",
   "nbconvert_exporter": "python",
   "pygments_lexer": "ipython3",
   "version": "3.7.3"
  }
 },
 "nbformat": 4,
 "nbformat_minor": 2
}
