{
 "cells": [
  {
   "cell_type": "markdown",
   "metadata": {},
   "source": [
    "# Zonal Stats\n",
    "\n",
    "By Cascade Tuholske, June 2020\n",
    "\n",
    "Notebook finds zonal stats of populations for give geographies. <br><br>\n",
    "**NOTE** CRS should be epsg:4326 for everything!"
   ]
  },
  {
   "cell_type": "code",
   "execution_count": null,
   "metadata": {},
   "outputs": [],
   "source": [
    "#### Dependencies\n",
    "import numpy as np\n",
    "import pandas as pd\n",
    "import rasterio\n",
    "import geopandas as gpd\n",
    "from rasterstats import zonal_stats, gen_zonal_stats\n",
    "from glob import glob"
   ]
  },
  {
   "cell_type": "code",
   "execution_count": null,
   "metadata": {},
   "outputs": [],
   "source": [
    "#### File Paths & FNs\n",
    "DATA_PATH = '/Users/cascade/Github/PopGridCompare/data/'"
   ]
  },
  {
   "cell_type": "code",
   "execution_count": null,
   "metadata": {},
   "outputs": [],
   "source": [
    "#### Run on Nigeria GDAM \n",
    "polys_fn = DATA_PATH+'raw/GDAM/gadm36_ESP_shp/gadm36_ESP_4.shp'\n",
    "polys = gpd.read_file(polys_fn)\n",
    "col = 'GID_4' # gdam level\n",
    "fn_out = DATA_PATH+'interim/ESP4_stats.shp' #updatea"
   ]
  },
  {
   "cell_type": "code",
   "execution_count": null,
   "metadata": {},
   "outputs": [],
   "source": [
    "# subset, be sure to check the admin level\n",
    "polys = polys[['geometry', col]]"
   ]
  },
  {
   "cell_type": "code",
   "execution_count": null,
   "metadata": {},
   "outputs": [],
   "source": [
    "# Git tif files\n",
    "rst_fns = glob('/Users/cascade/Github/PopGridCompare/data/interim/*.tif')\n",
    "rst_fns"
   ]
  },
  {
   "cell_type": "code",
   "execution_count": null,
   "metadata": {},
   "outputs": [],
   "source": [
    "def zone_loop(polys_in, rst_list, stats_type):\n",
    "    \"\"\" Function loops through rasters, calcs zonal_stats and returns stats as a data frame.\n",
    "    Args:\n",
    "        polys_in = polygons\n",
    "        rst_list = list of paths & fns of rasters\n",
    "        stats_type = stats type for each poly gone (see zonal stats)\n",
    "    \"\"\"\n",
    "    \n",
    "    # copy polys to write out\n",
    "    polys_out = polys_in.copy()\n",
    "    \n",
    "    for rst in rst_list:\n",
    "        \n",
    "        # Get data name\n",
    "        data = rst.split(DATA_PATH+'interim/')[1].split('_matched.tif')[0]\n",
    "        print('Started', data)\n",
    "        \n",
    "        # Run zonal stats\n",
    "        zs_feats = zonal_stats(polys_in, rst, stats=stats_type, geojson_out=True)\n",
    "        zgdf = gpd.GeoDataFrame.from_features(zs_feats, crs=polys_in.crs)\n",
    "        \n",
    "        # Rename columns and merge\n",
    "        zgdf = zgdf.rename(columns={stats_type: data+'_'+stats_type})\n",
    "        \n",
    "        polys_out = polys_out.merge(zgdf[[col, data+'_'+stats_type]], on = col, how = 'inner')\n",
    "    \n",
    "    return polys_out\n"
   ]
  },
  {
   "cell_type": "code",
   "execution_count": null,
   "metadata": {},
   "outputs": [],
   "source": [
    "# Run zonal stats loop\n",
    "polys_sum = zone_loop(polys, rst_fns, 'sum')\n",
    "polys_sum.head()"
   ]
  },
  {
   "cell_type": "code",
   "execution_count": null,
   "metadata": {},
   "outputs": [],
   "source": [
    "# variances\n",
    "polys_sum['var'] = polys_sum.iloc[:,2:6].var(axis = 1)"
   ]
  },
  {
   "cell_type": "code",
   "execution_count": null,
   "metadata": {},
   "outputs": [],
   "source": [
    "# std (population level)\n",
    "polys_sum['std'] = polys_sum.iloc[:,2:6].std(axis = 1, ddof=0)"
   ]
  },
  {
   "cell_type": "code",
   "execution_count": null,
   "metadata": {},
   "outputs": [],
   "source": [
    "# range\n",
    "polys_sum['range'] = polys_sum.iloc[:,2:6].max(axis = 1) - polys_sum.iloc[:,2:6].min(axis = 1)"
   ]
  },
  {
   "cell_type": "code",
   "execution_count": null,
   "metadata": {},
   "outputs": [],
   "source": [
    "polys_sum.head()"
   ]
  },
  {
   "cell_type": "code",
   "execution_count": null,
   "metadata": {},
   "outputs": [],
   "source": [
    "#### Save it out\n",
    "gpd_out = gpd.GeoDataFrame(polys_sum)\n",
    "gpd_out.to_file(fn_out)"
   ]
  },
  {
   "cell_type": "markdown",
   "metadata": {},
   "source": [
    "# Old Code"
   ]
  },
  {
   "cell_type": "code",
   "execution_count": null,
   "metadata": {},
   "outputs": [],
   "source": [
    "#### Functions\n",
    "def zonal_func(polys_in, rst_in, stats_type, save, fn_out = None):\n",
    "    \"\"\" Runs zonal stats on a set of polygons for a given raster, see rasterstats for stats type.\n",
    "    Returns geodata frame\n",
    "    Args:\n",
    "        polys = polygons as a shape file read into memory\n",
    "        rst_fn = path to raster file to run zonal stats on\n",
    "        stats_type = stats type for each poly gone (see zonal stats)\n",
    "        save = True will save out a fail\n",
    "        fn_out = file name and path to save out shape files\n",
    "    \"\"\"\n",
    "    \n",
    "    # Run Zonal Stats & Set to gpd df\n",
    "    zs_feats = zonal_stats(polys_in, rst_in, stats=stats_type, geojson_out=True)\n",
    "    zgdf = gpd.GeoDataFrame.from_features(zs_feats, crs=polys_in.crs)\n",
    "    \n",
    "    if save == True:\n",
    "        zgdf.to_file(fn_out) \n",
    "    \n",
    "    return zgdf"
   ]
  },
  {
   "cell_type": "code",
   "execution_count": null,
   "metadata": {},
   "outputs": [],
   "source": [
    "#### Run Zonal Stats\n",
    "rst_fns = glob('/Users/cascade/Github/PopGridCompare/data/interim/*.tif')\n",
    "fn_out = DATA_PATH+'interim/NGA_2_LS15.shp'\n",
    "rst_fn = rst_fns[0]\n",
    "zstats = zonal_func(polys, rst_fn, 'sum', save = True, fn_out =fn_out)"
   ]
  }
 ],
 "metadata": {
  "kernelspec": {
   "display_name": "Python 3",
   "language": "python",
   "name": "python3"
  },
  "language_info": {
   "codemirror_mode": {
    "name": "ipython",
    "version": 3
   },
   "file_extension": ".py",
   "mimetype": "text/x-python",
   "name": "python",
   "nbconvert_exporter": "python",
   "pygments_lexer": "ipython3",
   "version": "3.7.3"
  }
 },
 "nbformat": 4,
 "nbformat_minor": 2
}
