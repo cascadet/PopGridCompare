{
 "cells": [
  {
   "cell_type": "markdown",
   "metadata": {},
   "source": [
    "# Zonal Stats\n",
    "\n",
    "By Cascade Tuholske, June 2020\n",
    "\n",
    "Notebook to make rasters and stats for south FL. <br><br>\n",
    "**NOTE** CRS should be epsg:4326 for everything!"
   ]
  },
  {
   "cell_type": "code",
   "execution_count": 1,
   "metadata": {},
   "outputs": [],
   "source": [
    "#### Dependencies\n",
    "import numpy as np\n",
    "import pandas as pd\n",
    "import rasterio\n",
    "import geopandas as gpd\n",
    "from rasterstats import zonal_stats, gen_zonal_stats\n",
    "from glob import glob\n",
    "import rasterio.mask\n",
    "import matplotlib.pyplot as plt"
   ]
  },
  {
   "cell_type": "code",
   "execution_count": 2,
   "metadata": {},
   "outputs": [],
   "source": [
    "#### File Paths & FNs\n",
    "DATA_PATH = '/Users/cascade/Github/PopGridCompare/data/'"
   ]
  },
  {
   "cell_type": "markdown",
   "metadata": {},
   "source": [
    "## Clip Rasters"
   ]
  },
  {
   "cell_type": "code",
   "execution_count": 3,
   "metadata": {},
   "outputs": [],
   "source": [
    "def raster_clip(rst_fn, polys):\n",
    "    \n",
    "    \"function clips a raster and saves it out\"\n",
    "    \n",
    "    # Get raster name\n",
    "    data = rst_fn.split(DATA_PATH+'interim/')[1].split('_matched.tif')[0]\n",
    "    fn_out = DATA_PATH+'interim/'+data+'_SouthFL.tif'\n",
    "    print(fn_out)\n",
    "    \n",
    "    # clip raster\n",
    "    with rasterio.open(rst_fn) as src:\n",
    "        out_image, out_transform = rasterio.mask.mask(src, shapes, crop=True)\n",
    "        out_meta = src.meta\n",
    "        \n",
    "    # Update meta data\n",
    "    out_meta.update({\"driver\": \"GTiff\",\n",
    "                 \"height\": out_image.shape[1],\n",
    "                 \"width\": out_image.shape[2],\n",
    "                 \"transform\": out_transform})\n",
    "    # plot it\n",
    "    plt.imshow(out_image[0])\n",
    "    \n",
    "    # write image \n",
    "    with rasterio.open(fn_out, \"w\", **out_meta) as dest:\n",
    "        dest.write(out_image)"
   ]
  },
  {
   "cell_type": "code",
   "execution_count": 4,
   "metadata": {},
   "outputs": [],
   "source": [
    "#### Open polys\n",
    "polys_fn = DATA_PATH+'raw/South_FL/SouthFL.shp'\n",
    "polys = gpd.read_file(polys_fn)\n",
    "shapes = polys[\"geometry\"]"
   ]
  },
  {
   "cell_type": "code",
   "execution_count": 5,
   "metadata": {
    "scrolled": true
   },
   "outputs": [
    {
     "data": {
      "text/plain": [
       "['/Users/cascade/Github/PopGridCompare/data/interim/GHS15_matched.tif',\n",
       " '/Users/cascade/Github/PopGridCompare/data/interim/LS15_matched.tif',\n",
       " '/Users/cascade/Github/PopGridCompare/data/interim/GPWv4_matched.tif',\n",
       " '/Users/cascade/Github/PopGridCompare/data/interim/ESRI16_matched.tif',\n",
       " '/Users/cascade/Github/PopGridCompare/data/interim/WP16_matched.tif']"
      ]
     },
     "execution_count": 5,
     "metadata": {},
     "output_type": "execute_result"
    }
   ],
   "source": [
    "#### Git tif files\n",
    "rst_fns = glob('/Users/cascade/Github/PopGridCompare/data/interim/*_matched.tif')\n",
    "rst_fns"
   ]
  },
  {
   "cell_type": "code",
   "execution_count": 6,
   "metadata": {},
   "outputs": [
    {
     "name": "stdout",
     "output_type": "stream",
     "text": [
      "/Users/cascade/Github/PopGridCompare/data/interim/GHS15_SouthFL.tif\n",
      "/Users/cascade/Github/PopGridCompare/data/interim/LS15_SouthFL.tif\n",
      "/Users/cascade/Github/PopGridCompare/data/interim/GPWv4_SouthFL.tif\n",
      "/Users/cascade/Github/PopGridCompare/data/interim/ESRI16_SouthFL.tif\n",
      "/Users/cascade/Github/PopGridCompare/data/interim/WP16_SouthFL.tif\n"
     ]
    },
    {
     "data": {
      "image/png": "[encoded data removed]",
      "text/plain": [
       "<Figure size 432x288 with 1 Axes>"
      ]
     },
     "metadata": {
      "needs_background": "light"
     },
     "output_type": "display_data"
    }
   ],
   "source": [
    "for rst_fn in rst_fns:\n",
    "    raster_clip(rst_fn, shapes)"
   ]
  },
  {
   "cell_type": "markdown",
   "metadata": {},
   "source": [
    "## Zonal Stats"
   ]
  },
  {
   "cell_type": "code",
   "execution_count": 7,
   "metadata": {},
   "outputs": [],
   "source": [
    "#### Run on Nigeria GDAM \n",
    "polys_fn = DATA_PATH+'raw/South_FL/study_area_wgs84.shp'\n",
    "polys = gpd.read_file(polys_fn)\n",
    "col = 'GEOID' # gdam level\n",
    "fn_out = DATA_PATH+'interim/South_FL_stats.shp' #updatea"
   ]
  },
  {
   "cell_type": "code",
   "execution_count": 8,
   "metadata": {},
   "outputs": [],
   "source": [
    "# subset, be sure to check the admin level\n",
    "polys = polys[['geometry', col]]"
   ]
  },
  {
   "cell_type": "code",
   "execution_count": 9,
   "metadata": {},
   "outputs": [
    {
     "data": {
      "text/plain": [
       "['/Users/cascade/Github/PopGridCompare/data/interim/GHS15_matched.tif',\n",
       " '/Users/cascade/Github/PopGridCompare/data/interim/LS15_matched.tif',\n",
       " '/Users/cascade/Github/PopGridCompare/data/interim/GPWv4_matched.tif',\n",
       " '/Users/cascade/Github/PopGridCompare/data/interim/ESRI16_matched.tif',\n",
       " '/Users/cascade/Github/PopGridCompare/data/interim/WP16_matched.tif']"
      ]
     },
     "execution_count": 9,
     "metadata": {},
     "output_type": "execute_result"
    }
   ],
   "source": [
    "# Git tif files\n",
    "rst_fns = glob('/Users/cascade/Github/PopGridCompare/data/interim/*_matched.tif')\n",
    "rst_fns"
   ]
  },
  {
   "cell_type": "code",
   "execution_count": 10,
   "metadata": {},
   "outputs": [],
   "source": [
    "def zone_loop(polys_in, rst_list, stats_type):\n",
    "    \"\"\" Function loops through rasters, calcs zonal_stats and returns stats as a data frame.\n",
    "    Args:\n",
    "        polys_in = polygons\n",
    "        rst_list = list of paths & fns of rasters\n",
    "        stats_type = stats type for each poly gone (see zonal stats)\n",
    "    \"\"\"\n",
    "    \n",
    "    # copy polys to write out\n",
    "    polys_out = polys_in.copy()\n",
    "    \n",
    "    for rst in rst_list:\n",
    "        \n",
    "        # Get data name\n",
    "        data = rst.split(DATA_PATH+'interim/')[1].split('_matched.tif')[0]\n",
    "        print('Started', data)\n",
    "        \n",
    "        # Run zonal stats\n",
    "        zs_feats = zonal_stats(polys_in, rst, stats=stats_type, geojson_out=True)\n",
    "        zgdf = gpd.GeoDataFrame.from_features(zs_feats, crs=polys_in.crs)\n",
    "        \n",
    "        # Rename columns and merge\n",
    "        zgdf = zgdf.rename(columns={stats_type: data+'_'+stats_type})\n",
    "        \n",
    "        polys_out = polys_out.merge(zgdf[[col, data+'_'+stats_type]], on = col, how = 'inner')\n",
    "    \n",
    "    return polys_out\n"
   ]
  },
  {
   "cell_type": "code",
   "execution_count": 11,
   "metadata": {},
   "outputs": [
    {
     "name": "stdout",
     "output_type": "stream",
     "text": [
      "Started GHS15\n",
      "Started LS15\n",
      "Started GPWv4\n",
      "Started ESRI16\n",
      "Started WP16\n"
     ]
    },
    {
     "data": {
      "text/html": [
       "<div>\n",
       "<style scoped>\n",
       "    .dataframe tbody tr th:only-of-type {\n",
       "        vertical-align: middle;\n",
       "    }\n",
       "\n",
       "    .dataframe tbody tr th {\n",
       "        vertical-align: top;\n",
       "    }\n",
       "\n",
       "    .dataframe thead th {\n",
       "        text-align: right;\n",
       "    }\n",
       "</style>\n",
       "<table border=\"1\" class=\"dataframe\">\n",
       "  <thead>\n",
       "    <tr style=\"text-align: right;\">\n",
       "      <th></th>\n",
       "      <th>geometry</th>\n",
       "      <th>GEOID</th>\n",
       "      <th>GHS15_sum</th>\n",
       "      <th>LS15_sum</th>\n",
       "      <th>GPWv4_sum</th>\n",
       "      <th>ESRI16_sum</th>\n",
       "      <th>WP16_sum</th>\n",
       "    </tr>\n",
       "  </thead>\n",
       "  <tbody>\n",
       "    <tr>\n",
       "      <th>0</th>\n",
       "      <td>POLYGON ((-81.65759818781882 28.49245932407797...</td>\n",
       "      <td>1209593198</td>\n",
       "      <td>193868.584355</td>\n",
       "      <td>248285.0</td>\n",
       "      <td>195620.437500</td>\n",
       "      <td>231276.0</td>\n",
       "      <td>197838.453125</td>\n",
       "    </tr>\n",
       "    <tr>\n",
       "      <th>1</th>\n",
       "      <td>POLYGON ((-81.26431207196599 28.44867332377709...</td>\n",
       "      <td>1209590910</td>\n",
       "      <td>38140.738175</td>\n",
       "      <td>30531.0</td>\n",
       "      <td>38790.687500</td>\n",
       "      <td>49513.0</td>\n",
       "      <td>40333.136719</td>\n",
       "    </tr>\n",
       "    <tr>\n",
       "      <th>2</th>\n",
       "      <td>POLYGON ((-81.65740018980451 28.5531833386954,...</td>\n",
       "      <td>1209593705</td>\n",
       "      <td>99218.275478</td>\n",
       "      <td>89858.0</td>\n",
       "      <td>100557.328125</td>\n",
       "      <td>112560.0</td>\n",
       "      <td>101692.031250</td>\n",
       "    </tr>\n",
       "    <tr>\n",
       "      <th>3</th>\n",
       "      <td>POLYGON ((-81.49881514576593 28.61414535753242...</td>\n",
       "      <td>1209592522</td>\n",
       "      <td>612005.965026</td>\n",
       "      <td>673996.0</td>\n",
       "      <td>617417.937500</td>\n",
       "      <td>704152.0</td>\n",
       "      <td>630493.187500</td>\n",
       "    </tr>\n",
       "    <tr>\n",
       "      <th>4</th>\n",
       "      <td>POLYGON ((-81.70939512676496 25.96409570166286...</td>\n",
       "      <td>1202191027</td>\n",
       "      <td>16113.665862</td>\n",
       "      <td>14625.0</td>\n",
       "      <td>16167.994141</td>\n",
       "      <td>15024.0</td>\n",
       "      <td>17052.830078</td>\n",
       "    </tr>\n",
       "  </tbody>\n",
       "</table>\n",
       "</div>"
      ],
      "text/plain": [
       "                                            geometry       GEOID  \\\n",
       "0  POLYGON ((-81.65759818781882 28.49245932407797...  1209593198   \n",
       "1  POLYGON ((-81.26431207196599 28.44867332377709...  1209590910   \n",
       "2  POLYGON ((-81.65740018980451 28.5531833386954,...  1209593705   \n",
       "3  POLYGON ((-81.49881514576593 28.61414535753242...  1209592522   \n",
       "4  POLYGON ((-81.70939512676496 25.96409570166286...  1202191027   \n",
       "\n",
       "       GHS15_sum  LS15_sum      GPWv4_sum  ESRI16_sum       WP16_sum  \n",
       "0  193868.584355  248285.0  195620.437500    231276.0  197838.453125  \n",
       "1   38140.738175   30531.0   38790.687500     49513.0   40333.136719  \n",
       "2   99218.275478   89858.0  100557.328125    112560.0  101692.031250  \n",
       "3  612005.965026  673996.0  617417.937500    704152.0  630493.187500  \n",
       "4   16113.665862   14625.0   16167.994141     15024.0   17052.830078  "
      ]
     },
     "execution_count": 11,
     "metadata": {},
     "output_type": "execute_result"
    }
   ],
   "source": [
    "# Run zonal stats loop\n",
    "polys_sum = zone_loop(polys, rst_fns, 'sum')\n",
    "polys_sum.head()"
   ]
  },
  {
   "cell_type": "code",
   "execution_count": null,
   "metadata": {},
   "outputs": [],
   "source": [
    "#### merge\n",
    "polys_fn = DATA_PATH+'raw/South_FL/study_area_wgs84.shp'\n",
    "polys = gpd.read_file(polys_fn)\n",
    "\n",
    "gpd_out = polys.merge(polys_sum.iloc[:,1:], on = 'GEOID', how = 'inner')"
   ]
  },
  {
   "cell_type": "code",
   "execution_count": null,
   "metadata": {},
   "outputs": [],
   "source": [
    "gpd_out.head()"
   ]
  },
  {
   "cell_type": "code",
   "execution_count": null,
   "metadata": {},
   "outputs": [],
   "source": [
    "#### Save it out\n",
    "gpd_out = gpd.GeoDataFrame(polys_sum)\n",
    "gpd_out.to_file(fn_out)"
   ]
  },
  {
   "cell_type": "markdown",
   "metadata": {},
   "source": [
    "# Old Code"
   ]
  },
  {
   "cell_type": "code",
   "execution_count": null,
   "metadata": {},
   "outputs": [],
   "source": [
    "#### Functions\n",
    "def zonal_func(polys_in, rst_in, stats_type, save, fn_out = None):\n",
    "    \"\"\" Runs zonal stats on a set of polygons for a given raster, see rasterstats for stats type.\n",
    "    Returns geodata frame\n",
    "    Args:\n",
    "        polys = polygons as a shape file read into memory\n",
    "        rst_fn = path to raster file to run zonal stats on\n",
    "        stats_type = stats type for each poly gone (see zonal stats)\n",
    "        save = True will save out a fail\n",
    "        fn_out = file name and path to save out shape files\n",
    "    \"\"\"\n",
    "    \n",
    "    # Run Zonal Stats & Set to gpd df\n",
    "    zs_feats = zonal_stats(polys_in, rst_in, stats=stats_type, geojson_out=True)\n",
    "    zgdf = gpd.GeoDataFrame.from_features(zs_feats, crs=polys_in.crs)\n",
    "    \n",
    "    if save == True:\n",
    "        zgdf.to_file(fn_out) \n",
    "    \n",
    "    return zgdf"
   ]
  },
  {
   "cell_type": "code",
   "execution_count": null,
   "metadata": {},
   "outputs": [],
   "source": [
    "#### Run Zonal Stats\n",
    "rst_fns = glob('/Users/cascade/Github/PopGridCompare/data/interim/*.tif')\n",
    "fn_out = DATA_PATH+'interim/NGA_2_LS15.shp'\n",
    "rst_fn = rst_fns[0]\n",
    "zstats = zonal_func(polys, rst_fn, 'sum', save = True, fn_out =fn_out)"
   ]
  }
 ],
 "metadata": {
  "kernelspec": {
   "display_name": "Python 3",
   "language": "python",
   "name": "python3"
  },
  "language_info": {
   "codemirror_mode": {
    "name": "ipython",
    "version": 3
   },
   "file_extension": ".py",
   "mimetype": "text/x-python",
   "name": "python",
   "nbconvert_exporter": "python",
   "pygments_lexer": "ipython3",
   "version": "3.7.3"
  }
 },
 "nbformat": 4,
 "nbformat_minor": 2
}
