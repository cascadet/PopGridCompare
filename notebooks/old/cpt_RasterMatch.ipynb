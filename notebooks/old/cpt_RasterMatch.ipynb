{
 "cells": [
  {
   "cell_type": "markdown",
   "metadata": {},
   "source": [
    "# Raster Match\n",
    "\n",
    "By Cascade Tuholske, June 2020\n",
    "Notebook reprojects popgrid rasters into the same CRS, size and projection so the stack. <br>\n",
    "\n",
    "Updated CPT Sep 2020 to set all meta data to GPWv4"
   ]
  },
  {
   "cell_type": "code",
   "execution_count": 2,
   "metadata": {},
   "outputs": [],
   "source": [
    "import xarray as xr\n",
    "import numpy as np\n",
    "import pandas as pd\n",
    "import geopandas as gpd\n",
    "import rasterio \n",
    "import rioxarray as rio\n",
    "from glob import glob"
   ]
  },
  {
   "cell_type": "code",
   "execution_count": 3,
   "metadata": {},
   "outputs": [],
   "source": [
    "# File paths and FN\n",
    "data_in = '/Users/cascade/Github/PopGridCompare/data/raw/'\n",
    "data_out = '/Users/cascade/Github/PopGridCompare/data/interim/'\n",
    "\n",
    "wp_path = data_in+'WorldPop16/ppp_2016_1km_Aggregated.tif'\n",
    "ls_path = data_in+'LandScan-Global-2015/lspop2015/w001001.adf'\n",
    "esri_path = data_in+'ESRI_WPE_2016_Pop/WPE_1KM_2016_Pop.tif'\n",
    "ghs_path = data_in+'GHS-Pop/GHS_POP_E2015_GLOBE_R2019A_4326_30ss_V1_0.tif'\n",
    "gpw_path = data_in+'gpw_v4/gpw-v4-population-count-rev11_2015_30_sec_tif/gpw_v4_population_count_rev11_2015_30_sec.tif'\n",
    "modis_path = data_out+'MODIS2015_LCType2_1km-urban.tif'\n",
    "# smod_path = data_out+'smod15-rural-urban.tif'"
   ]
  },
  {
   "cell_type": "markdown",
   "metadata": {},
   "source": [
    "## Open files and check meta data"
   ]
  },
  {
   "cell_type": "code",
   "execution_count": null,
   "metadata": {},
   "outputs": [],
   "source": [
    "# smod15-rural-urban.tif is the GHSL-SMOD 2015 reclassified to urban/rural \n",
    "# smod : width = 36082 height = 18000 epsg = 4326\n",
    "# smod = rio.open_rasterio(smod_path)\n",
    "# smod"
   ]
  },
  {
   "cell_type": "code",
   "execution_count": 5,
   "metadata": {},
   "outputs": [
    {
     "data": {
      "text/plain": [
       "<xarray.DataArray (band: 1, y: 17590, x: 40031)>\n",
       "[704145290 values with dtype=uint8]\n",
       "Coordinates:\n",
       "  * band         (band) int64 1\n",
       "  * y            (y) float64 9.672e+06 9.671e+06 ... -7.916e+06 -7.917e+06\n",
       "  * x            (x) float64 -2.001e+07 -2.001e+07 ... 2.001e+07 2.002e+07\n",
       "    spatial_ref  int64 0\n",
       "Attributes:\n",
       "    transform:     (1000.0000000010791, 0.0, -20015109.354, 0.0, -999.9999999...\n",
       "    scale_factor:  1.0\n",
       "    add_offset:    0.0\n",
       "    grid_mapping:  spatial_ref"
      ]
     },
     "execution_count": 5,
     "metadata": {},
     "output_type": "execute_result"
    }
   ],
   "source": [
    "# MODIS2015_LCType2_1km-urban.tif is 2015 MODIS from GEE reclassified to urban/rural \n",
    "# modis : height: 17590, width: 40031, MODIS Sinusoidal\n",
    "modis = rio.open_rasterio(modis_path)\n",
    "modis"
   ]
  },
  {
   "cell_type": "code",
   "execution_count": 6,
   "metadata": {},
   "outputs": [
    {
     "data": {
      "text/plain": [
       "<xarray.DataArray (band: 1, y: 21600, x: 43200)>\n",
       "[933120000 values with dtype=float32]\n",
       "Coordinates:\n",
       "  * band         (band) int64 1\n",
       "  * y            (y) float64 90.0 89.99 89.98 89.97 ... -89.98 -89.99 -90.0\n",
       "  * x            (x) float64 -180.0 -180.0 -180.0 -180.0 ... 180.0 180.0 180.0\n",
       "    spatial_ref  int64 0\n",
       "Attributes:\n",
       "    RepresentationType:  ATHEMATIC\n",
       "    transform:           (0.00833333333333333, 0.0, -180.0, 0.0, -0.008333333...\n",
       "    _FillValue:          -3.4028230607370965e+38\n",
       "    scale_factor:        1.0\n",
       "    add_offset:          0.0\n",
       "    grid_mapping:        spatial_ref"
      ]
     },
     "execution_count": 6,
     "metadata": {},
     "output_type": "execute_result"
    }
   ],
   "source": [
    "# GPW v4 : width = 43200 height = 21600 epsg = 4326\n",
    "gpw = rio.open_rasterio(gpw_path)\n",
    "gpw"
   ]
  },
  {
   "cell_type": "code",
   "execution_count": 7,
   "metadata": {},
   "outputs": [
    {
     "data": {
      "text/plain": [
       "<xarray.DataArray (band: 1, y: 18720, x: 43200)>\n",
       "[808704000 values with dtype=float32]\n",
       "Coordinates:\n",
       "  * band         (band) int64 1\n",
       "  * y            (y) float64 84.0 83.99 83.98 83.97 ... -71.98 -71.99 -72.0\n",
       "  * x            (x) float64 -180.0 -180.0 -180.0 -180.0 ... 180.0 180.0 180.0\n",
       "    spatial_ref  int64 0\n",
       "Attributes:\n",
       "    transform:     (0.0083333333, 0.0, -180.001249265, 0.0, -0.0083333333, 83...\n",
       "    _FillValue:    -3.4028234663852886e+38\n",
       "    scale_factor:  1.0\n",
       "    add_offset:    0.0\n",
       "    grid_mapping:  spatial_ref"
      ]
     },
     "execution_count": 7,
     "metadata": {},
     "output_type": "execute_result"
    }
   ],
   "source": [
    "# World Pop 2016 (?_): width = 43200 height = 18720 epsg = 4326\n",
    "wp = rio.open_rasterio(wp_path)\n",
    "wp"
   ]
  },
  {
   "cell_type": "code",
   "execution_count": 8,
   "metadata": {
    "scrolled": true
   },
   "outputs": [
    {
     "data": {
      "text/plain": [
       "<xarray.DataArray (band: 1, y: 14285, x: 40074)>\n",
       "[572457090 values with dtype=int32]\n",
       "Coordinates:\n",
       "  * band         (band) int64 1\n",
       "  * y            (y) float64 73.32 73.31 73.3 73.29 ... -54.98 -54.99 -55.0\n",
       "  * x            (x) float64 -180.0 -180.0 -180.0 -180.0 ... 180.0 180.0 180.0\n",
       "    spatial_ref  int64 0\n",
       "Attributes:\n",
       "    STATISTICS_MAXIMUM:      336720\n",
       "    STATISTICS_MEAN:         401.47917136019\n",
       "    STATISTICS_MINIMUM:      1\n",
       "    STATISTICS_SKIPFACTORX:  1\n",
       "    STATISTICS_SKIPFACTORY:  1\n",
       "    STATISTICS_STDDEV:       1594.7670745165\n",
       "    transform:               (0.008983196, 0.0, -179.99191516916386, 0.0, -0....\n",
       "    _FillValue:              -2147483647.0\n",
       "    scale_factor:            1.0\n",
       "    add_offset:              0.0\n",
       "    grid_mapping:            spatial_ref"
      ]
     },
     "execution_count": 8,
     "metadata": {},
     "output_type": "execute_result"
    }
   ],
   "source": [
    "# ESRI 2016 : width = 40074 height = 14285 epsg = 4326\n",
    "esri = rio.open_rasterio(esri_path)\n",
    "esri"
   ]
  },
  {
   "cell_type": "code",
   "execution_count": 9,
   "metadata": {},
   "outputs": [
    {
     "data": {
      "text/plain": [
       "<xarray.DataArray (band: 1, y: 21600, x: 43200)>\n",
       "[933120000 values with dtype=int32]\n",
       "Coordinates:\n",
       "  * band         (band) int64 1\n",
       "  * y            (y) float64 90.0 89.99 89.98 89.97 ... -89.98 -89.99 -90.0\n",
       "  * x            (x) float64 -180.0 -180.0 -180.0 -180.0 ... 180.0 180.0 180.0\n",
       "    spatial_ref  int64 0\n",
       "Attributes:\n",
       "    STATISTICS_MAXIMUM:  38537\n",
       "    STATISTICS_MEAN:     16.167777587702\n",
       "    STATISTICS_MINIMUM:  0\n",
       "    STATISTICS_STDDEV:   233.963508769\n",
       "    transform:           (0.0083333333333333, 0.0, -180.0, 0.0, -0.0083333333...\n",
       "    _FillValue:          -2147483647.0\n",
       "    scale_factor:        1.0\n",
       "    add_offset:          0.0\n",
       "    grid_mapping:        spatial_ref"
      ]
     },
     "execution_count": 9,
     "metadata": {},
     "output_type": "execute_result"
    }
   ],
   "source": [
    "# LS 2015 : width = 43200 height = 21600 epsg = 4326\n",
    "ls = rio.open_rasterio(ls_path)\n",
    "ls"
   ]
  },
  {
   "cell_type": "code",
   "execution_count": 10,
   "metadata": {},
   "outputs": [
    {
     "data": {
      "text/plain": [
       "<xarray.DataArray (band: 1, y: 21600, x: 43200)>\n",
       "[933120000 values with dtype=float64]\n",
       "Coordinates:\n",
       "  * band         (band) int64 1\n",
       "  * y            (y) float64 90.0 89.99 89.98 89.97 ... -89.98 -89.99 -90.0\n",
       "  * x            (x) float64 -180.0 -180.0 -180.0 -180.0 ... 180.0 180.0 180.0\n",
       "    spatial_ref  int64 0\n",
       "Attributes:\n",
       "    STATISTICS_COVARIANCES:  268645.1471199603\n",
       "    STATISTICS_MAXIMUM:      459434.61914063\n",
       "    STATISTICS_MEAN:         32.932334417347\n",
       "    STATISTICS_MINIMUM:      0\n",
       "    STATISTICS_SKIPFACTORX:  1\n",
       "    STATISTICS_SKIPFACTORY:  1\n",
       "    STATISTICS_STDDEV:       518.30989486982\n",
       "    transform:               (0.008333333333333333, 0.0, -180.0, 0.0, -0.0083...\n",
       "    _FillValue:              -200.0\n",
       "    scale_factor:            1.0\n",
       "    add_offset:              0.0\n",
       "    grid_mapping:            spatial_ref"
      ]
     },
     "execution_count": 10,
     "metadata": {},
     "output_type": "execute_result"
    }
   ],
   "source": [
    "# GHS 2015 : width = 43200 height = 21600 epsg = 4326\n",
    "ghs = rio.open_rasterio(ghs_path)\n",
    "ghs"
   ]
  },
  {
   "cell_type": "markdown",
   "metadata": {},
   "source": [
    "# Reset zero values"
   ]
  },
  {
   "cell_type": "code",
   "execution_count": 11,
   "metadata": {},
   "outputs": [
    {
     "name": "stdout",
     "output_type": "stream",
     "text": [
      "modis na value is 0\n",
      "GPW na value is -3.402823e+38\n",
      "World Pop na value is -3.4028235e+38\n",
      "LandScan na value is -2147483647\n",
      "ESRI na value is -2147483647\n",
      "GHS na value is -200.0\n"
     ]
    }
   ],
   "source": [
    "#print('smod na value is', smod.data[0][0][0])\n",
    "print('modis na value is', modis.data[0][0][0])\n",
    "print('GPW na value is', gpw.data[0][0][0])\n",
    "print('World Pop na value is', wp.data[0][0][0])\n",
    "print('LandScan na value is', ls.data[0][0][0])\n",
    "print('ESRI na value is', esri.data[0][0][0])\n",
    "print('GHS na value is', ghs.data[0][0][0])"
   ]
  },
  {
   "cell_type": "code",
   "execution_count": 13,
   "metadata": {},
   "outputs": [],
   "source": [
    "#### Try setting all NAs and 0s to Zero\n",
    "# smod.data = np.where(smod.data < 1, 0, smod.data)\n",
    "modis.data = np.where(modis.data < 1, 0, modis.data)\n",
    "gpw.data = np.where(gpw.data < 1, 0, gpw.data)\n",
    "wp.data = np.where(wp.data < 1, 0, wp.data)\n",
    "ls.data = np.where(ls.data < 1, 0, ls.data)\n",
    "esri.data = np.where(esri.data < 1, 0, esri.data)\n",
    "ghs.data = np.where(ghs.data < 1, 0, ghs.data)\n"
   ]
  },
  {
   "cell_type": "code",
   "execution_count": 14,
   "metadata": {},
   "outputs": [
    {
     "name": "stdout",
     "output_type": "stream",
     "text": [
      "modis na value is 0\n",
      "GPW na value is 0.0\n",
      "World Pop na value is 0.0\n",
      "LandScan na value is 0\n",
      "ESRI na value is 0\n",
      "GHS na value is 0.0\n"
     ]
    }
   ],
   "source": [
    "#print('smod na value is', smod.data[0][0][0])\n",
    "print('modis na value is', modis.data[0][0][0])\n",
    "print('GPW na value is', gpw.data[0][0][0])\n",
    "print('World Pop na value is', wp.data[0][0][0])\n",
    "print('LandScan na value is', ls.data[0][0][0])\n",
    "print('ESRI na value is', esri.data[0][0][0])\n",
    "print('GHS na value is', ghs.data[0][0][0])"
   ]
  },
  {
   "cell_type": "markdown",
   "metadata": {},
   "source": [
    "## Test Matching and Reprojecting\n",
    "\n",
    "trying: https://corteva.github.io/rioxarray/html/examples/reproject_match.html"
   ]
  },
  {
   "cell_type": "code",
   "execution_count": 30,
   "metadata": {},
   "outputs": [],
   "source": [
    "# modis doesn't have an assigned fill value so we make one\n",
    "modis.attrs['_FillValue'] = 0"
   ]
  },
  {
   "cell_type": "code",
   "execution_count": 31,
   "metadata": {},
   "outputs": [
    {
     "name": "stdout",
     "output_type": "stream",
     "text": [
      "0\n",
      "-3.4028230607370965e+38\n",
      "-2147483647.0\n",
      "-2147483647.0\n",
      "-3.4028234663852886e+38\n",
      "-200.0\n"
     ]
    }
   ],
   "source": [
    "# Check NA values\n",
    "# print(smod.attrs['_FillValue'])\n",
    "print(modis.attrs['_FillValue'])\n",
    "print(gpw.attrs['_FillValue'])\n",
    "print(esri.attrs['_FillValue'])\n",
    "print(ls.attrs['_FillValue'])\n",
    "print(wp.attrs['_FillValue'])\n",
    "print(ghs.attrs['_FillValue'])"
   ]
  },
  {
   "cell_type": "code",
   "execution_count": 32,
   "metadata": {},
   "outputs": [],
   "source": [
    "# Change NA values\n",
    "na_val = 0\n",
    "# smod.attrs['_FillValue'] = na_val\n",
    "modis.attrs['_FillValue'] = na_val\n",
    "gpw.attrs['_FillValue'] = na_val\n",
    "esri.attrs['_FillValue'] = na_val\n",
    "ls.attrs['_FillValue'] = na_val\n",
    "wp.attrs['_FillValue'] = na_val\n",
    "ghs.attrs['_FillValue'] = na_val"
   ]
  },
  {
   "cell_type": "code",
   "execution_count": 33,
   "metadata": {},
   "outputs": [
    {
     "name": "stdout",
     "output_type": "stream",
     "text": [
      "0\n",
      "0\n",
      "0\n",
      "0\n",
      "0\n",
      "0\n"
     ]
    }
   ],
   "source": [
    "# Check NA values\n",
    "#print(smod.attrs['_FillValue'])\n",
    "print(modis.attrs['_FillValue'])\n",
    "print(gpw.attrs['_FillValue'])\n",
    "print(esri.attrs['_FillValue'])\n",
    "print(ls.attrs['_FillValue'])\n",
    "print(wp.attrs['_FillValue'])\n",
    "print(ghs.attrs['_FillValue'])"
   ]
  },
  {
   "cell_type": "code",
   "execution_count": 34,
   "metadata": {},
   "outputs": [],
   "source": [
    "# Reproject all datasets to GPWv4\n",
    "#smod_match = smod.rio.reproject_match(gpw)\n",
    "modis_match = modis.rio.reproject_match(gpw)\n",
    "ls_match = ls.rio.reproject_match(gpw)\n",
    "esri_match = esri.rio.reproject_match(gpw)\n",
    "wp_match = wp.rio.reproject_match(gpw)\n",
    "ghs_match = ghs.rio.reproject_match(gpw)"
   ]
  },
  {
   "cell_type": "code",
   "execution_count": 35,
   "metadata": {
    "scrolled": true
   },
   "outputs": [
    {
     "name": "stdout",
     "output_type": "stream",
     "text": [
      "0\n",
      "0\n",
      "0\n",
      "0\n",
      "0\n",
      "0\n"
     ]
    }
   ],
   "source": [
    "# Check NA valuesb\n",
    "#print(smod_match.attrs['_FillValue'])\n",
    "print(modis_match.attrs['_FillValue'])\n",
    "print(gpw.attrs['_FillValue'])\n",
    "print(esri_match.attrs['_FillValue'])\n",
    "print(ls_match.attrs['_FillValue'])\n",
    "print(wp.attrs['_FillValue'])\n",
    "print(ghs_match.attrs['_FillValue'])"
   ]
  },
  {
   "cell_type": "code",
   "execution_count": 36,
   "metadata": {},
   "outputs": [
    {
     "data": {
      "text/plain": [
       "<xarray.DataArray (band: 1, y: 21600, x: 43200)>\n",
       "array([[[0, 0, ..., 0, 0],\n",
       "        [0, 0, ..., 0, 0],\n",
       "        ...,\n",
       "        [0, 0, ..., 0, 0],\n",
       "        [0, 0, ..., 0, 0]]], dtype=uint8)\n",
       "Coordinates:\n",
       "  * x            (x) float64 -180.0 -180.0 -180.0 -180.0 ... 180.0 180.0 180.0\n",
       "  * y            (y) float64 90.0 89.99 89.98 89.97 ... -89.98 -89.99 -90.0\n",
       "  * band         (band) int64 1\n",
       "    spatial_ref  int64 0\n",
       "Attributes:\n",
       "    transform:     (0.00833333333333333, 0.0, -180.0, 0.0, -0.008333333333333...\n",
       "    scale_factor:  1.0\n",
       "    add_offset:    0.0\n",
       "    grid_mapping:  spatial_ref\n",
       "    _FillValue:    0"
      ]
     },
     "execution_count": 36,
     "metadata": {},
     "output_type": "execute_result"
    }
   ],
   "source": [
    "# Check em\n",
    "#smod_match\n",
    "modis_match"
   ]
  },
  {
   "cell_type": "code",
   "execution_count": 37,
   "metadata": {},
   "outputs": [
    {
     "data": {
      "text/plain": [
       "<xarray.DataArray (band: 1, y: 21600, x: 43200)>\n",
       "array([[[0., 0., ..., 0., 0.],\n",
       "        [0., 0., ..., 0., 0.],\n",
       "        ...,\n",
       "        [0., 0., ..., 0., 0.],\n",
       "        [0., 0., ..., 0., 0.]]], dtype=float32)\n",
       "Coordinates:\n",
       "  * band         (band) int64 1\n",
       "  * y            (y) float64 90.0 89.99 89.98 89.97 ... -89.98 -89.99 -90.0\n",
       "  * x            (x) float64 -180.0 -180.0 -180.0 -180.0 ... 180.0 180.0 180.0\n",
       "    spatial_ref  int64 0\n",
       "Attributes:\n",
       "    RepresentationType:  ATHEMATIC\n",
       "    transform:           (0.00833333333333333, 0.0, -180.0, 0.0, -0.008333333...\n",
       "    _FillValue:          0\n",
       "    scale_factor:        1.0\n",
       "    add_offset:          0.0\n",
       "    grid_mapping:        spatial_ref"
      ]
     },
     "execution_count": 37,
     "metadata": {},
     "output_type": "execute_result"
    }
   ],
   "source": [
    "gpw"
   ]
  },
  {
   "cell_type": "code",
   "execution_count": 38,
   "metadata": {},
   "outputs": [
    {
     "data": {
      "text/plain": [
       "<xarray.DataArray (band: 1, y: 21600, x: 43200)>\n",
       "array([[[0, 0, ..., 0, 0],\n",
       "        [0, 0, ..., 0, 0],\n",
       "        ...,\n",
       "        [0, 0, ..., 0, 0],\n",
       "        [0, 0, ..., 0, 0]]], dtype=int32)\n",
       "Coordinates:\n",
       "  * x            (x) float64 -180.0 -180.0 -180.0 -180.0 ... 180.0 180.0 180.0\n",
       "  * y            (y) float64 90.0 89.99 89.98 89.97 ... -89.98 -89.99 -90.0\n",
       "  * band         (band) int64 1\n",
       "    spatial_ref  int64 0\n",
       "Attributes:\n",
       "    STATISTICS_MAXIMUM:  38537\n",
       "    STATISTICS_MEAN:     16.167777587702\n",
       "    STATISTICS_MINIMUM:  0\n",
       "    STATISTICS_STDDEV:   233.963508769\n",
       "    transform:           (0.00833333333333333, 0.0, -180.0, 0.0, -0.008333333...\n",
       "    scale_factor:        1.0\n",
       "    add_offset:          0.0\n",
       "    grid_mapping:        spatial_ref\n",
       "    _FillValue:          0"
      ]
     },
     "execution_count": 38,
     "metadata": {},
     "output_type": "execute_result"
    }
   ],
   "source": [
    "ls_match"
   ]
  },
  {
   "cell_type": "code",
   "execution_count": 39,
   "metadata": {},
   "outputs": [
    {
     "data": {
      "text/plain": [
       "<xarray.DataArray (band: 1, y: 21600, x: 43200)>\n",
       "array([[[0, 0, ..., 0, 0],\n",
       "        [0, 0, ..., 0, 0],\n",
       "        ...,\n",
       "        [0, 0, ..., 0, 0],\n",
       "        [0, 0, ..., 0, 0]]], dtype=int32)\n",
       "Coordinates:\n",
       "  * x            (x) float64 -180.0 -180.0 -180.0 -180.0 ... 180.0 180.0 180.0\n",
       "  * y            (y) float64 90.0 89.99 89.98 89.97 ... -89.98 -89.99 -90.0\n",
       "  * band         (band) int64 1\n",
       "    spatial_ref  int64 0\n",
       "Attributes:\n",
       "    STATISTICS_MAXIMUM:      336720\n",
       "    STATISTICS_MEAN:         401.47917136019\n",
       "    STATISTICS_MINIMUM:      1\n",
       "    STATISTICS_SKIPFACTORX:  1\n",
       "    STATISTICS_SKIPFACTORY:  1\n",
       "    STATISTICS_STDDEV:       1594.7670745165\n",
       "    transform:               (0.00833333333333333, 0.0, -180.0, 0.0, -0.00833...\n",
       "    scale_factor:            1.0\n",
       "    add_offset:              0.0\n",
       "    grid_mapping:            spatial_ref\n",
       "    _FillValue:              0"
      ]
     },
     "execution_count": 39,
     "metadata": {},
     "output_type": "execute_result"
    }
   ],
   "source": [
    "esri_match"
   ]
  },
  {
   "cell_type": "code",
   "execution_count": 40,
   "metadata": {},
   "outputs": [
    {
     "data": {
      "text/plain": [
       "<xarray.DataArray (band: 1, y: 21600, x: 43200)>\n",
       "array([[[0., 0., ..., 0., 0.],\n",
       "        [0., 0., ..., 0., 0.],\n",
       "        ...,\n",
       "        [0., 0., ..., 0., 0.],\n",
       "        [0., 0., ..., 0., 0.]]], dtype=float32)\n",
       "Coordinates:\n",
       "  * x            (x) float64 -180.0 -180.0 -180.0 -180.0 ... 180.0 180.0 180.0\n",
       "  * y            (y) float64 90.0 89.99 89.98 89.97 ... -89.98 -89.99 -90.0\n",
       "  * band         (band) int64 1\n",
       "    spatial_ref  int64 0\n",
       "Attributes:\n",
       "    transform:     (0.00833333333333333, 0.0, -180.0, 0.0, -0.008333333333333...\n",
       "    scale_factor:  1.0\n",
       "    add_offset:    0.0\n",
       "    grid_mapping:  spatial_ref\n",
       "    _FillValue:    0"
      ]
     },
     "execution_count": 40,
     "metadata": {},
     "output_type": "execute_result"
    }
   ],
   "source": [
    "wp_match"
   ]
  },
  {
   "cell_type": "code",
   "execution_count": 41,
   "metadata": {},
   "outputs": [
    {
     "data": {
      "text/plain": [
       "<xarray.DataArray (band: 1, y: 21600, x: 43200)>\n",
       "array([[[0., 0., ..., 0., 0.],\n",
       "        [0., 0., ..., 0., 0.],\n",
       "        ...,\n",
       "        [0., 0., ..., 0., 0.],\n",
       "        [0., 0., ..., 0., 0.]]])\n",
       "Coordinates:\n",
       "  * x            (x) float64 -180.0 -180.0 -180.0 -180.0 ... 180.0 180.0 180.0\n",
       "  * y            (y) float64 90.0 89.99 89.98 89.97 ... -89.98 -89.99 -90.0\n",
       "  * band         (band) int64 1\n",
       "    spatial_ref  int64 0\n",
       "Attributes:\n",
       "    STATISTICS_COVARIANCES:  268645.1471199603\n",
       "    STATISTICS_MAXIMUM:      459434.61914063\n",
       "    STATISTICS_MEAN:         32.932334417347\n",
       "    STATISTICS_MINIMUM:      0\n",
       "    STATISTICS_SKIPFACTORX:  1\n",
       "    STATISTICS_SKIPFACTORY:  1\n",
       "    STATISTICS_STDDEV:       518.30989486982\n",
       "    transform:               (0.00833333333333333, 0.0, -180.0, 0.0, -0.00833...\n",
       "    scale_factor:            1.0\n",
       "    add_offset:              0.0\n",
       "    grid_mapping:            spatial_ref\n",
       "    _FillValue:              0"
      ]
     },
     "execution_count": 41,
     "metadata": {},
     "output_type": "execute_result"
    }
   ],
   "source": [
    "ghs_match"
   ]
  },
  {
   "cell_type": "code",
   "execution_count": 43,
   "metadata": {},
   "outputs": [],
   "source": [
    "# Try writing them and then checking them\n",
    "modis.rio.to_raster(data_out+'modis15-rural-urban-matched.tif') #named different for easy of use later\n",
    "gpw.rio.to_raster(data_out+'GPWv4_matched.tif')\n",
    "esri_match.rio.to_raster(data_out+'ESRI16_matched.tif')\n",
    "ls_match.rio.to_raster(data_out+'LS15_matched.tif')\n",
    "wp_match.rio.to_raster(data_out+'WP16_matched.tif')\n",
    "ghs_match.rio.to_raster(data_out+'GHS15_matched.tif')"
   ]
  },
  {
   "cell_type": "markdown",
   "metadata": {},
   "source": [
    "# Urban / Rural SMOD\n",
    "ocean = 10, rural = 111, urban = 222 <br>\n",
    "Mask urban and rural populations from gridded pop rasters"
   ]
  },
  {
   "cell_type": "code",
   "execution_count": null,
   "metadata": {},
   "outputs": [],
   "source": [
    "# Make a rural raster\n",
    "value = 111\n",
    "urban_rural = smod_match.copy()\n",
    "urban_rural.data = np.where(urban_rural.data == value, 1, urban_rural.data)\n",
    "urban_rural.data = np.where(urban_rural.data != 1, 0, urban_rural.data)\n",
    "urban_rural.rio.to_raster(data_out+'smod15-rural-matched.tif')"
   ]
  },
  {
   "cell_type": "code",
   "execution_count": null,
   "metadata": {},
   "outputs": [],
   "source": [
    "# Make a urban raster\n",
    "value = 222\n",
    "urban_rural = smod_match.copy()\n",
    "urban_rural.data = np.where(urban_rural.data == value, 1, urban_rural.data)\n",
    "urban_rural.data = np.where(urban_rural.data != 1, 0, urban_rural.data)\n",
    "urban_rural.rio.to_raster(data_out+'smod15-urban-matched.tif')"
   ]
  },
  {
   "cell_type": "code",
   "execution_count": null,
   "metadata": {},
   "outputs": [],
   "source": [
    "# Git matched tif files\n",
    "rst_fns = glob('/Users/cascade/Github/PopGridCompare/data/interim/*_matched.tif')\n",
    "rst_fns"
   ]
  },
  {
   "cell_type": "code",
   "execution_count": null,
   "metadata": {},
   "outputs": [],
   "source": [
    "def raster_mask(rst_fn, urban_arr, rural_arr, data_out):\n",
    "    \"\"\" Writes out masked rural and urban populations from pop rasters\n",
    "    Args:\n",
    "        rst_nm = pop raster file name + path\n",
    "        urban_fn = smod urban raster name + path \n",
    "        rural_fn = smod rural raster name + path\n",
    "        data_out = path to write out new rsts\n",
    "    \"\"\"\n",
    "    \n",
    "    # split for naming\n",
    "    rst_nm = rst_fn.split('interim/')[1].split('.tif')[0]\n",
    "    print(rst_nm)\n",
    "    \n",
    "    # open pop rasters and get array\n",
    "    arr = rasterio.open(rst_fn).read(1)\n",
    "    \n",
    "    # multiply\n",
    "    arr_urban = arr * urban_arr\n",
    "    arr_rural = arr * rural_arr\n",
    "\n",
    "    # meta data\n",
    "    meta = rasterio.open(rst_fn).meta\n",
    "\n",
    "    # write out urban\n",
    "    meta['dtype'] = arr_urban.dtype\n",
    "    out_fn = data_out+rst_nm+'_urban.tif'\n",
    "    with rasterio.open(out_fn, 'w', **meta) as out:\n",
    "        out.write_band(1, arr_urban)\n",
    "    \n",
    "    # write out rural \n",
    "    meta['dtype'] = arr_rural.dtype\n",
    "    out_fn = data_out+rst_nm+'_rural.tif'\n",
    "    with rasterio.open(out_fn, 'w', **meta) as out:\n",
    "        out.write_band(1, arr_rural)\n",
    "    print('done \\n')"
   ]
  },
  {
   "cell_type": "code",
   "execution_count": null,
   "metadata": {},
   "outputs": [],
   "source": [
    "# Get smod urban and rural data\n",
    "\n",
    "smod_urban_fn = '/Users/cascade/Github/PopGridCompare/data/interim/smod15-urban-matched.tif'\n",
    "smod_rural_fn = '/Users/cascade/Github/PopGridCompare/data/interim/smod15-rural-matched.tif'\n",
    "\n",
    "smod_urban = rasterio.open(smod_urban_fn).read(1)\n",
    "smod_rural = rasterio.open(smod_rural_fn).read(1)"
   ]
  },
  {
   "cell_type": "code",
   "execution_count": null,
   "metadata": {},
   "outputs": [],
   "source": [
    "# Run it\n",
    "data_out = '/Users/cascade/Github/PopGridCompare/data/interim/'\n",
    "for rst_fn in rst_fns:\n",
    "    raster_mask(rst_fn, smod_urban, smod_rural, data_out)"
   ]
  }
 ],
 "metadata": {
  "kernelspec": {
   "display_name": "Python 3",
   "language": "python",
   "name": "python3"
  },
  "language_info": {
   "codemirror_mode": {
    "name": "ipython",
    "version": 3
   },
   "file_extension": ".py",
   "mimetype": "text/x-python",
   "name": "python",
   "nbconvert_exporter": "python",
   "pygments_lexer": "ipython3",
   "version": "3.8.6"
  }
 },
 "nbformat": 4,
 "nbformat_minor": 2
}
